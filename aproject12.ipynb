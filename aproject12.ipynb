{
 "cells": [
  {
   "cell_type": "code",
   "execution_count": null,
   "id": "d90e0b14-733e-4ac6-a7b1-46e1b15d5001",
   "metadata": {},
   "outputs": [],
   "source": [
    "def reversing(sentence):\n",
    " for sentence in sentencelist:\n",
    "     print(f\"the reversed {sentence} sentence is {sentence[::-1]}\")\n",
    "     \n",
    "sentencelist=[]\n",
    "while True:\n",
    "    sentence=input(\"make me sentence\")\n",
    "    if sentence.lower()==\"q\":\n",
    "        break\n",
    "    sentencelist.append(sentence)\n",
    "reversing(sentence)"
   ]
  }
 ],
 "metadata": {
  "kernelspec": {
   "display_name": "Python 3 (ipykernel)",
   "language": "python",
   "name": "python3"
  },
  "language_info": {
   "codemirror_mode": {
    "name": "ipython",
    "version": 3
   },
   "file_extension": ".py",
   "mimetype": "text/x-python",
   "name": "python",
   "nbconvert_exporter": "python",
   "pygments_lexer": "ipython3",
   "version": "3.12.4"
  }
 },
 "nbformat": 4,
 "nbformat_minor": 5
}
